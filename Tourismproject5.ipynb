{
  "nbformat": 4,
  "nbformat_minor": 0,
  "metadata": {
    "colab": {
      "provenance": [],
      "collapsed_sections": [
        "aF5zBGRkHJfG",
        "fuVGfCxXIJpu"
      ],
      "toc_visible": true,
      "authorship_tag": "ABX9TyPI+s7xYdednTR31kiD88nR",
      "include_colab_link": true
    },
    "kernelspec": {
      "name": "python3",
      "display_name": "Python 3"
    },
    "language_info": {
      "name": "python"
    }
  },
  "cells": [
    {
      "cell_type": "markdown",
      "metadata": {
        "id": "view-in-github",
        "colab_type": "text"
      },
      "source": [
        "<a href=\"https://colab.research.google.com/github/travoholicspirit/Exploratorydataanalysis/blob/main/Tourismproject5.ipynb\" target=\"_parent\"><img src=\"https://colab.research.google.com/assets/colab-badge.svg\" alt=\"Open In Colab\"/></a>"
      ]
    },
    {
      "cell_type": "markdown",
      "source": [
        "# **Installing necessary libraries**"
      ],
      "metadata": {
        "id": "hyX550Lbl4m3"
      }
    },
    {
      "cell_type": "code",
      "source": [
        "import pandas as pd\n",
        "import numpy as np\n",
        "import csv\n",
        "import matplotlib.pyplot as plt"
      ],
      "metadata": {
        "id": "gkiieed-mAE0"
      },
      "execution_count": 1,
      "outputs": []
    },
    {
      "cell_type": "markdown",
      "source": [
        "## **Merge the Domestic visitors Data**"
      ],
      "metadata": {
        "id": "aF5zBGRkHJfG"
      }
    },
    {
      "cell_type": "code",
      "source": [
        "from google.colab import drive\n",
        "drive.mount('/content/drive')"
      ],
      "metadata": {
        "colab": {
          "base_uri": "https://localhost:8080/"
        },
        "id": "6wItCuA0mXRZ",
        "outputId": "bc2e2d7d-032b-4c22-b65e-5459c7bcb25d"
      },
      "execution_count": 2,
      "outputs": [
        {
          "output_type": "stream",
          "name": "stdout",
          "text": [
            "Mounted at /content/drive\n"
          ]
        }
      ]
    },
    {
      "cell_type": "code",
      "source": [
        "# Read the domestic visitors data\n",
        "\n",
        "Dm1 = pd.read_csv(\"/content/drive/MyDrive/Project5/Colab Notebooks/domestic_visitors/domestic_visitors_2016.csv\")\n",
        "\n",
        "Dm1.head()\n"
      ],
      "metadata": {
        "colab": {
          "base_uri": "https://localhost:8080/",
          "height": 206
        },
        "id": "Jz36OV-XmXbI",
        "outputId": "a600c983-6dd8-4eaf-db28-736887c23355"
      },
      "execution_count": null,
      "outputs": [
        {
          "output_type": "execute_result",
          "data": {
            "text/plain": [
              "   district        date     month  year visitors\n",
              "0  Adilabad  01-01-2016   January  2016   792136\n",
              "1  Adilabad  01-02-2016  February  2016   937820\n",
              "2  Adilabad  01-03-2016     March  2016   582946\n",
              "3  Adilabad  01-04-2016     April  2016   341948\n",
              "4  Adilabad  01-05-2016       May  2016   252887"
            ],
            "text/html": [
              "\n",
              "  <div id=\"df-9ada3a81-40e5-4527-adc9-361972ff2ff1\">\n",
              "    <div class=\"colab-df-container\">\n",
              "      <div>\n",
              "<style scoped>\n",
              "    .dataframe tbody tr th:only-of-type {\n",
              "        vertical-align: middle;\n",
              "    }\n",
              "\n",
              "    .dataframe tbody tr th {\n",
              "        vertical-align: top;\n",
              "    }\n",
              "\n",
              "    .dataframe thead th {\n",
              "        text-align: right;\n",
              "    }\n",
              "</style>\n",
              "<table border=\"1\" class=\"dataframe\">\n",
              "  <thead>\n",
              "    <tr style=\"text-align: right;\">\n",
              "      <th></th>\n",
              "      <th>district</th>\n",
              "      <th>date</th>\n",
              "      <th>month</th>\n",
              "      <th>year</th>\n",
              "      <th>visitors</th>\n",
              "    </tr>\n",
              "  </thead>\n",
              "  <tbody>\n",
              "    <tr>\n",
              "      <th>0</th>\n",
              "      <td>Adilabad</td>\n",
              "      <td>01-01-2016</td>\n",
              "      <td>January</td>\n",
              "      <td>2016</td>\n",
              "      <td>792136</td>\n",
              "    </tr>\n",
              "    <tr>\n",
              "      <th>1</th>\n",
              "      <td>Adilabad</td>\n",
              "      <td>01-02-2016</td>\n",
              "      <td>February</td>\n",
              "      <td>2016</td>\n",
              "      <td>937820</td>\n",
              "    </tr>\n",
              "    <tr>\n",
              "      <th>2</th>\n",
              "      <td>Adilabad</td>\n",
              "      <td>01-03-2016</td>\n",
              "      <td>March</td>\n",
              "      <td>2016</td>\n",
              "      <td>582946</td>\n",
              "    </tr>\n",
              "    <tr>\n",
              "      <th>3</th>\n",
              "      <td>Adilabad</td>\n",
              "      <td>01-04-2016</td>\n",
              "      <td>April</td>\n",
              "      <td>2016</td>\n",
              "      <td>341948</td>\n",
              "    </tr>\n",
              "    <tr>\n",
              "      <th>4</th>\n",
              "      <td>Adilabad</td>\n",
              "      <td>01-05-2016</td>\n",
              "      <td>May</td>\n",
              "      <td>2016</td>\n",
              "      <td>252887</td>\n",
              "    </tr>\n",
              "  </tbody>\n",
              "</table>\n",
              "</div>\n",
              "      <button class=\"colab-df-convert\" onclick=\"convertToInteractive('df-9ada3a81-40e5-4527-adc9-361972ff2ff1')\"\n",
              "              title=\"Convert this dataframe to an interactive table.\"\n",
              "              style=\"display:none;\">\n",
              "        \n",
              "  <svg xmlns=\"http://www.w3.org/2000/svg\" height=\"24px\"viewBox=\"0 0 24 24\"\n",
              "       width=\"24px\">\n",
              "    <path d=\"M0 0h24v24H0V0z\" fill=\"none\"/>\n",
              "    <path d=\"M18.56 5.44l.94 2.06.94-2.06 2.06-.94-2.06-.94-.94-2.06-.94 2.06-2.06.94zm-11 1L8.5 8.5l.94-2.06 2.06-.94-2.06-.94L8.5 2.5l-.94 2.06-2.06.94zm10 10l.94 2.06.94-2.06 2.06-.94-2.06-.94-.94-2.06-.94 2.06-2.06.94z\"/><path d=\"M17.41 7.96l-1.37-1.37c-.4-.4-.92-.59-1.43-.59-.52 0-1.04.2-1.43.59L10.3 9.45l-7.72 7.72c-.78.78-.78 2.05 0 2.83L4 21.41c.39.39.9.59 1.41.59.51 0 1.02-.2 1.41-.59l7.78-7.78 2.81-2.81c.8-.78.8-2.07 0-2.86zM5.41 20L4 18.59l7.72-7.72 1.47 1.35L5.41 20z\"/>\n",
              "  </svg>\n",
              "      </button>\n",
              "      \n",
              "  <style>\n",
              "    .colab-df-container {\n",
              "      display:flex;\n",
              "      flex-wrap:wrap;\n",
              "      gap: 12px;\n",
              "    }\n",
              "\n",
              "    .colab-df-convert {\n",
              "      background-color: #E8F0FE;\n",
              "      border: none;\n",
              "      border-radius: 50%;\n",
              "      cursor: pointer;\n",
              "      display: none;\n",
              "      fill: #1967D2;\n",
              "      height: 32px;\n",
              "      padding: 0 0 0 0;\n",
              "      width: 32px;\n",
              "    }\n",
              "\n",
              "    .colab-df-convert:hover {\n",
              "      background-color: #E2EBFA;\n",
              "      box-shadow: 0px 1px 2px rgba(60, 64, 67, 0.3), 0px 1px 3px 1px rgba(60, 64, 67, 0.15);\n",
              "      fill: #174EA6;\n",
              "    }\n",
              "\n",
              "    [theme=dark] .colab-df-convert {\n",
              "      background-color: #3B4455;\n",
              "      fill: #D2E3FC;\n",
              "    }\n",
              "\n",
              "    [theme=dark] .colab-df-convert:hover {\n",
              "      background-color: #434B5C;\n",
              "      box-shadow: 0px 1px 3px 1px rgba(0, 0, 0, 0.15);\n",
              "      filter: drop-shadow(0px 1px 2px rgba(0, 0, 0, 0.3));\n",
              "      fill: #FFFFFF;\n",
              "    }\n",
              "  </style>\n",
              "\n",
              "      <script>\n",
              "        const buttonEl =\n",
              "          document.querySelector('#df-9ada3a81-40e5-4527-adc9-361972ff2ff1 button.colab-df-convert');\n",
              "        buttonEl.style.display =\n",
              "          google.colab.kernel.accessAllowed ? 'block' : 'none';\n",
              "\n",
              "        async function convertToInteractive(key) {\n",
              "          const element = document.querySelector('#df-9ada3a81-40e5-4527-adc9-361972ff2ff1');\n",
              "          const dataTable =\n",
              "            await google.colab.kernel.invokeFunction('convertToInteractive',\n",
              "                                                     [key], {});\n",
              "          if (!dataTable) return;\n",
              "\n",
              "          const docLinkHtml = 'Like what you see? Visit the ' +\n",
              "            '<a target=\"_blank\" href=https://colab.research.google.com/notebooks/data_table.ipynb>data table notebook</a>'\n",
              "            + ' to learn more about interactive tables.';\n",
              "          element.innerHTML = '';\n",
              "          dataTable['output_type'] = 'display_data';\n",
              "          await google.colab.output.renderOutput(dataTable, element);\n",
              "          const docLink = document.createElement('div');\n",
              "          docLink.innerHTML = docLinkHtml;\n",
              "          element.appendChild(docLink);\n",
              "        }\n",
              "      </script>\n",
              "    </div>\n",
              "  </div>\n",
              "  "
            ]
          },
          "metadata": {},
          "execution_count": 41
        }
      ]
    },
    {
      "cell_type": "code",
      "source": [
        "#Read other 3 files \n",
        "\n",
        "Dm2 = pd.read_csv(\"/content/drive/MyDrive/Project5/Colab Notebooks/domestic_visitors/domestic_visitors_2017.csv\")\n",
        "Dm3 = pd.read_csv(\"/content/drive/MyDrive/Project5/Colab Notebooks/domestic_visitors/domestic_visitors_2018.csv\")\n",
        "Dm4 = pd.read_csv(\"/content/drive/MyDrive/Project5/Colab Notebooks/domestic_visitors/domestic_visitors_2019.csv\")"
      ],
      "metadata": {
        "id": "Cztf4P_EGoS6"
      },
      "execution_count": null,
      "outputs": []
    },
    {
      "cell_type": "code",
      "source": [
        "#to get the row and column details of 2018 file\n",
        "Dm3.shape"
      ],
      "metadata": {
        "colab": {
          "base_uri": "https://localhost:8080/"
        },
        "id": "L9k6s1o4Gobx",
        "outputId": "e0a8923f-4220-4b28-b4d2-a61ab0ac224a"
      },
      "execution_count": null,
      "outputs": [
        {
          "output_type": "execute_result",
          "data": {
            "text/plain": [
              "(372, 5)"
            ]
          },
          "metadata": {},
          "execution_count": 43
        }
      ]
    },
    {
      "cell_type": "code",
      "source": [
        "#Merge all the csv files from 2016 to 2019\n",
        "\n",
        "dm = Dm1.append([Dm2,Dm3,Dm4],ignore_index=True)"
      ],
      "metadata": {
        "colab": {
          "base_uri": "https://localhost:8080/"
        },
        "id": "6OdnibYCG4nW",
        "outputId": "ea2f673a-f36a-4db9-d05b-6ecb13269d4b"
      },
      "execution_count": null,
      "outputs": [
        {
          "output_type": "stream",
          "name": "stderr",
          "text": [
            "<ipython-input-45-9e8bb556ccc0>:3: FutureWarning: The frame.append method is deprecated and will be removed from pandas in a future version. Use pandas.concat instead.\n",
            "  dm = Dm1.append([Dm2,Dm3,Dm4],ignore_index=True)\n"
          ]
        }
      ]
    },
    {
      "cell_type": "code",
      "source": [
        "#to get the number of rows and columns for the merged files\n",
        "dm.shape"
      ],
      "metadata": {
        "colab": {
          "base_uri": "https://localhost:8080/"
        },
        "id": "stj2LLZcG5H7",
        "outputId": "073ae54e-ad68-4ea1-8d90-4a2918e9e432"
      },
      "execution_count": null,
      "outputs": [
        {
          "output_type": "execute_result",
          "data": {
            "text/plain": [
              "(1512, 5)"
            ]
          },
          "metadata": {},
          "execution_count": 46
        }
      ]
    },
    {
      "cell_type": "code",
      "source": [
        "#To extract the merged file into a csv file \n",
        "\n",
        "dm.to_csv('/content/drive/MyDrive/Project5/Colab Notebooks/domestic_visitors/Domestic_visitors.csv',sep=',',encoding='utf-8')"
      ],
      "metadata": {
        "id": "dUV6IdCUJaWJ"
      },
      "execution_count": null,
      "outputs": []
    },
    {
      "cell_type": "markdown",
      "source": [
        "# **Merging the foreign visitors files**"
      ],
      "metadata": {
        "id": "fuVGfCxXIJpu"
      }
    },
    {
      "cell_type": "code",
      "source": [
        "#To read the first foreign visitors file (2016)\n",
        "fv1 = pd.read_csv(\"/content/drive/MyDrive/Project5/Colab Notebooks/foreign_visitors/foreign_visitors_2016.csv\")\n",
        "\n",
        "#To read 2017,2018,2019 files\n",
        "\n",
        "fv2 = pd.read_csv(\"/content/drive/MyDrive/Project5/Colab Notebooks/foreign_visitors/foreign_visitors_2017.csv\")\n",
        "fv3 = pd.read_csv(\"/content/drive/MyDrive/Project5/Colab Notebooks/foreign_visitors/foreign_visitors_2018.csv\")\n",
        "fv4 = pd.read_csv(\"/content/drive/MyDrive/Project5/Colab Notebooks/foreign_visitors/foreign_visitors_2019.csv\")"
      ],
      "metadata": {
        "id": "Rl-PgXdzIQ1s"
      },
      "execution_count": null,
      "outputs": []
    },
    {
      "cell_type": "code",
      "source": [
        "#To check if the foreign file is loaded\n",
        "\n",
        "fv3.head()"
      ],
      "metadata": {
        "colab": {
          "base_uri": "https://localhost:8080/",
          "height": 206
        },
        "id": "kYyMTGJaI246",
        "outputId": "2f64d596-a520-4ec1-c6f2-53db52b9be21"
      },
      "execution_count": null,
      "outputs": [
        {
          "output_type": "execute_result",
          "data": {
            "text/plain": [
              "   district        date     month  year visitors\n",
              "0  Adilabad  01-01-2018   January  2018        0\n",
              "1  Adilabad  01-02-2018  February  2018        0\n",
              "2  Adilabad  01-03-2018     March  2018        0\n",
              "3  Adilabad  01-04-2018     April  2018        0\n",
              "4  Adilabad  01-05-2018       May  2018        0"
            ],
            "text/html": [
              "\n",
              "  <div id=\"df-1bfe4ee5-5701-4fb2-8692-e2c3c80486a7\">\n",
              "    <div class=\"colab-df-container\">\n",
              "      <div>\n",
              "<style scoped>\n",
              "    .dataframe tbody tr th:only-of-type {\n",
              "        vertical-align: middle;\n",
              "    }\n",
              "\n",
              "    .dataframe tbody tr th {\n",
              "        vertical-align: top;\n",
              "    }\n",
              "\n",
              "    .dataframe thead th {\n",
              "        text-align: right;\n",
              "    }\n",
              "</style>\n",
              "<table border=\"1\" class=\"dataframe\">\n",
              "  <thead>\n",
              "    <tr style=\"text-align: right;\">\n",
              "      <th></th>\n",
              "      <th>district</th>\n",
              "      <th>date</th>\n",
              "      <th>month</th>\n",
              "      <th>year</th>\n",
              "      <th>visitors</th>\n",
              "    </tr>\n",
              "  </thead>\n",
              "  <tbody>\n",
              "    <tr>\n",
              "      <th>0</th>\n",
              "      <td>Adilabad</td>\n",
              "      <td>01-01-2018</td>\n",
              "      <td>January</td>\n",
              "      <td>2018</td>\n",
              "      <td>0</td>\n",
              "    </tr>\n",
              "    <tr>\n",
              "      <th>1</th>\n",
              "      <td>Adilabad</td>\n",
              "      <td>01-02-2018</td>\n",
              "      <td>February</td>\n",
              "      <td>2018</td>\n",
              "      <td>0</td>\n",
              "    </tr>\n",
              "    <tr>\n",
              "      <th>2</th>\n",
              "      <td>Adilabad</td>\n",
              "      <td>01-03-2018</td>\n",
              "      <td>March</td>\n",
              "      <td>2018</td>\n",
              "      <td>0</td>\n",
              "    </tr>\n",
              "    <tr>\n",
              "      <th>3</th>\n",
              "      <td>Adilabad</td>\n",
              "      <td>01-04-2018</td>\n",
              "      <td>April</td>\n",
              "      <td>2018</td>\n",
              "      <td>0</td>\n",
              "    </tr>\n",
              "    <tr>\n",
              "      <th>4</th>\n",
              "      <td>Adilabad</td>\n",
              "      <td>01-05-2018</td>\n",
              "      <td>May</td>\n",
              "      <td>2018</td>\n",
              "      <td>0</td>\n",
              "    </tr>\n",
              "  </tbody>\n",
              "</table>\n",
              "</div>\n",
              "      <button class=\"colab-df-convert\" onclick=\"convertToInteractive('df-1bfe4ee5-5701-4fb2-8692-e2c3c80486a7')\"\n",
              "              title=\"Convert this dataframe to an interactive table.\"\n",
              "              style=\"display:none;\">\n",
              "        \n",
              "  <svg xmlns=\"http://www.w3.org/2000/svg\" height=\"24px\"viewBox=\"0 0 24 24\"\n",
              "       width=\"24px\">\n",
              "    <path d=\"M0 0h24v24H0V0z\" fill=\"none\"/>\n",
              "    <path d=\"M18.56 5.44l.94 2.06.94-2.06 2.06-.94-2.06-.94-.94-2.06-.94 2.06-2.06.94zm-11 1L8.5 8.5l.94-2.06 2.06-.94-2.06-.94L8.5 2.5l-.94 2.06-2.06.94zm10 10l.94 2.06.94-2.06 2.06-.94-2.06-.94-.94-2.06-.94 2.06-2.06.94z\"/><path d=\"M17.41 7.96l-1.37-1.37c-.4-.4-.92-.59-1.43-.59-.52 0-1.04.2-1.43.59L10.3 9.45l-7.72 7.72c-.78.78-.78 2.05 0 2.83L4 21.41c.39.39.9.59 1.41.59.51 0 1.02-.2 1.41-.59l7.78-7.78 2.81-2.81c.8-.78.8-2.07 0-2.86zM5.41 20L4 18.59l7.72-7.72 1.47 1.35L5.41 20z\"/>\n",
              "  </svg>\n",
              "      </button>\n",
              "      \n",
              "  <style>\n",
              "    .colab-df-container {\n",
              "      display:flex;\n",
              "      flex-wrap:wrap;\n",
              "      gap: 12px;\n",
              "    }\n",
              "\n",
              "    .colab-df-convert {\n",
              "      background-color: #E8F0FE;\n",
              "      border: none;\n",
              "      border-radius: 50%;\n",
              "      cursor: pointer;\n",
              "      display: none;\n",
              "      fill: #1967D2;\n",
              "      height: 32px;\n",
              "      padding: 0 0 0 0;\n",
              "      width: 32px;\n",
              "    }\n",
              "\n",
              "    .colab-df-convert:hover {\n",
              "      background-color: #E2EBFA;\n",
              "      box-shadow: 0px 1px 2px rgba(60, 64, 67, 0.3), 0px 1px 3px 1px rgba(60, 64, 67, 0.15);\n",
              "      fill: #174EA6;\n",
              "    }\n",
              "\n",
              "    [theme=dark] .colab-df-convert {\n",
              "      background-color: #3B4455;\n",
              "      fill: #D2E3FC;\n",
              "    }\n",
              "\n",
              "    [theme=dark] .colab-df-convert:hover {\n",
              "      background-color: #434B5C;\n",
              "      box-shadow: 0px 1px 3px 1px rgba(0, 0, 0, 0.15);\n",
              "      filter: drop-shadow(0px 1px 2px rgba(0, 0, 0, 0.3));\n",
              "      fill: #FFFFFF;\n",
              "    }\n",
              "  </style>\n",
              "\n",
              "      <script>\n",
              "        const buttonEl =\n",
              "          document.querySelector('#df-1bfe4ee5-5701-4fb2-8692-e2c3c80486a7 button.colab-df-convert');\n",
              "        buttonEl.style.display =\n",
              "          google.colab.kernel.accessAllowed ? 'block' : 'none';\n",
              "\n",
              "        async function convertToInteractive(key) {\n",
              "          const element = document.querySelector('#df-1bfe4ee5-5701-4fb2-8692-e2c3c80486a7');\n",
              "          const dataTable =\n",
              "            await google.colab.kernel.invokeFunction('convertToInteractive',\n",
              "                                                     [key], {});\n",
              "          if (!dataTable) return;\n",
              "\n",
              "          const docLinkHtml = 'Like what you see? Visit the ' +\n",
              "            '<a target=\"_blank\" href=https://colab.research.google.com/notebooks/data_table.ipynb>data table notebook</a>'\n",
              "            + ' to learn more about interactive tables.';\n",
              "          element.innerHTML = '';\n",
              "          dataTable['output_type'] = 'display_data';\n",
              "          await google.colab.output.renderOutput(dataTable, element);\n",
              "          const docLink = document.createElement('div');\n",
              "          docLink.innerHTML = docLinkHtml;\n",
              "          element.appendChild(docLink);\n",
              "        }\n",
              "      </script>\n",
              "    </div>\n",
              "  </div>\n",
              "  "
            ]
          },
          "metadata": {},
          "execution_count": 52
        }
      ]
    },
    {
      "cell_type": "code",
      "source": [
        "# To merge all the files into one master file\n",
        "\n",
        "fv = fv1.append([fv2,fv3,fv4],ignore_index=True)"
      ],
      "metadata": {
        "colab": {
          "base_uri": "https://localhost:8080/"
        },
        "id": "Et10_du7JRLU",
        "outputId": "69445bcd-370d-4437-c58a-a19b97e716ab"
      },
      "execution_count": null,
      "outputs": [
        {
          "output_type": "stream",
          "name": "stderr",
          "text": [
            "<ipython-input-56-4be765dad813>:3: FutureWarning: The frame.append method is deprecated and will be removed from pandas in a future version. Use pandas.concat instead.\n",
            "  fv = fv1.append([fv2,fv3,fv4],ignore_index=True)\n"
          ]
        }
      ]
    },
    {
      "cell_type": "code",
      "source": [
        "#to check the number of rows and column of merged file\n",
        "\n",
        "fv.shape"
      ],
      "metadata": {
        "colab": {
          "base_uri": "https://localhost:8080/"
        },
        "id": "yArCEDNwKORn",
        "outputId": "ab99cd2a-3bec-470c-ea81-93e364a8169b"
      },
      "execution_count": null,
      "outputs": [
        {
          "output_type": "execute_result",
          "data": {
            "text/plain": [
              "(1512, 5)"
            ]
          },
          "metadata": {},
          "execution_count": 57
        }
      ]
    },
    {
      "cell_type": "code",
      "source": [
        "#To extract the master file into csv file\n",
        "\n",
        "fv.to_csv(\"/content/drive/MyDrive/Project5/Colab Notebooks/foreign_visitors/Foreign_visitors.csv\",sep=',',encoding='utf-8')\n",
        "\n"
      ],
      "metadata": {
        "id": "sPHqR-mnKVR8"
      },
      "execution_count": null,
      "outputs": []
    },
    {
      "cell_type": "markdown",
      "source": [
        "# **Overall Domestic to Foreign tourist ratio for all districts for all years:**"
      ],
      "metadata": {
        "id": "nYf2gSXB36wp"
      }
    },
    {
      "cell_type": "markdown",
      "source": [],
      "metadata": {
        "id": "9XtOvukcTKXX"
      }
    },
    {
      "cell_type": "code",
      "source": [
        "# Read in the domestic visitors CSV file\n",
        "Dv = pd.read_csv(\"/content/drive/MyDrive/Project5/Colab Notebooks/domestic_visitors/Domestic_visitors.csv\")\n",
        "\n",
        "# Read in the foreign visitors CSV file\n",
        "fv = pd.read_csv(\"/content/drive/MyDrive/Project5/Colab Notebooks/foreign_visitors/Foreign_visitors.csv\")\n",
        "\n",
        "# Convert the \"visitors\" column to numeric values\n",
        "Dv['visitors'] = pd.to_numeric(Dv['visitors'], errors='coerce')\n",
        "fv['visitors'] = pd.to_numeric(fv['visitors'], errors='coerce')\n",
        "\n",
        "# Calculate the total number of domestic visitors for each district and year\n",
        "domestic_totals = Dv.groupby(['district', 'year'])['visitors'].sum()\n",
        "\n",
        "# Calculate the total number of foreign visitors for each district and year\n",
        "foreign_totals = fv.groupby(['district', 'year'])['visitors'].sum()\n",
        "\n",
        "# Calculate the domestic to foreign visitors ratio for each district and year\n",
        "ratios = domestic_totals / foreign_totals\n",
        "\n",
        "# Remove NaN values from the ratios\n",
        "ratios = ratios.dropna()\n",
        "\n",
        "# Get the overall domestic to foreign tourist ratio for all districts for all years\n",
        "ratios_all = ratios.groupby('district').mean()\n",
        "\n",
        "# Round the ratios to 2 decimal places\n",
        "ratios_all = ratios_all.round(2)\n",
        "\n",
        "# Remove any remaining NaN values from the ratios_all series\n",
        "ratios_all = ratios_all.dropna()\n",
        "\n",
        "# Get the top and bottom 3 districts with the highest domestic to foreign tourist ratio for all years combined\n",
        "top_3_all = ratios_all.nlargest(3)\n",
        "bottom_3_all = ratios_all.nsmallest(3)\n",
        "\n",
        "# Print the overall domestic to foreign tourist ratio for all districts for all years\n",
        "print(\"Overall domestic to foreign tourist ratio for all districts for all years:\")\n",
        "print(ratios_all)\n",
        "\n",
        "# Print the top 3 and bottom 3 districts with the highest domestic to foreign tourist ratio for all years combined\n",
        "print(\"\\nTop 3 districts with the highest domestic to foreign tourist ratio for all years combined:\")\n",
        "print(top_3_all)\n",
        "print(\"\\nBottom 3 districts with the lowest domestic to foreign tourist ratio for all years combined:\")\n",
        "print(bottom_3_all)\n"
      ],
      "metadata": {
        "colab": {
          "base_uri": "https://localhost:8080/"
        },
        "id": "Y8adRHBxy8YK",
        "outputId": "ad7a5344-7aeb-40b9-ac90-9bbcfb94113e"
      },
      "execution_count": null,
      "outputs": [
        {
          "output_type": "stream",
          "name": "stdout",
          "text": [
            "Overall domestic to foreign tourist ratio for all districts for all years:\n",
            "district\n",
            "Adilabad                    210213.67\n",
            "Hyderabad                       89.54\n",
            "Jayashankar Bhoopalpally     13011.50\n",
            "Jogulamba Gadwal              8147.09\n",
            "Mahbubnagar                   7079.85\n",
            "Mulugu                        3164.87\n",
            "Nagarkurnool                 12188.38\n",
            "Warangal (Urban)              3947.01\n",
            "Name: visitors, dtype: float64\n",
            "\n",
            "Top 3 districts with the highest domestic to foreign tourist ratio for all years combined:\n",
            "district\n",
            "Adilabad                    210213.67\n",
            "Jayashankar Bhoopalpally     13011.50\n",
            "Nagarkurnool                 12188.38\n",
            "Name: visitors, dtype: float64\n",
            "\n",
            "Bottom 3 districts with the lowest domestic to foreign tourist ratio for all years combined:\n",
            "district\n",
            "Hyderabad             89.54\n",
            "Mulugu              3164.87\n",
            "Warangal (Urban)    3947.01\n",
            "Name: visitors, dtype: float64\n"
          ]
        }
      ]
    },
    {
      "cell_type": "markdown",
      "source": [],
      "metadata": {
        "id": "qKjG-G7YTM65"
      }
    }
  ]
}